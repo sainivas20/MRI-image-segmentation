{
 "cells": [
  {
   "cell_type": "code",
   "execution_count": 1,
   "id": "5bfbdf0c",
   "metadata": {},
   "outputs": [],
   "source": [
    "import os\n",
    "import numpy as np\n",
    "import matplotlib.pyplot as plt\n",
    "import cv2\n",
    "\n",
    "from keras.models import load_model\n",
    "from keras.losses import binary_crossentropy\n",
    "from keras import backend as K\n",
    "import tensorflow as tf"
   ]
  },
  {
   "cell_type": "code",
   "execution_count": 2,
   "id": "cc9a07a0",
   "metadata": {},
   "outputs": [],
   "source": [
    "def bce_dice_loss(y_true, y_pred):\n",
    "    return binary_crossentropy(y_true, y_pred) + dice_loss(y_true, y_pred)"
   ]
  },
  {
   "cell_type": "code",
   "execution_count": 3,
   "id": "9f4164fc",
   "metadata": {},
   "outputs": [],
   "source": [
    "def iou_metric(label, pred):\n",
    "    return tf.py_func(get_iou_vector, [label, pred>0.5], tf.float64)"
   ]
  },
  {
   "cell_type": "code",
   "execution_count": 4,
   "id": "82ccc8dd",
   "metadata": {},
   "outputs": [],
   "source": [
    "unet = load_model('model_best_checkpoint.h5', custom_objects={'bce_dice_loss': bce_dice_loss,'iou_metric':iou_metric})"
   ]
  },
  {
   "cell_type": "code",
   "execution_count": 5,
   "id": "940030a9",
   "metadata": {},
   "outputs": [
    {
     "ename": "FileNotFoundError",
     "evalue": "[WinError 3] The system cannot find the path specified: 'F:\\\\1-02-2025\\\\Brain Image Segmentation\\\\imagess'",
     "output_type": "error",
     "traceback": [
      "\u001b[1;31m---------------------------------------------------------------------------\u001b[0m",
      "\u001b[1;31mFileNotFoundError\u001b[0m                         Traceback (most recent call last)",
      "Cell \u001b[1;32mIn[5], line 7\u001b[0m\n\u001b[0;32m      5\u001b[0m image_shape \u001b[38;5;241m=\u001b[39m (\u001b[38;5;241m128\u001b[39m,\u001b[38;5;241m128\u001b[39m)\n\u001b[0;32m      6\u001b[0m \u001b[38;5;66;03m# Read training data\u001b[39;00m\n\u001b[1;32m----> 7\u001b[0m \u001b[38;5;28;01mfor\u001b[39;00m img_file \u001b[38;5;129;01min\u001b[39;00m \u001b[43mos\u001b[49m\u001b[38;5;241;43m.\u001b[39;49m\u001b[43mlistdir\u001b[49m\u001b[43m(\u001b[49m\u001b[43mPath\u001b[49m\u001b[43m)\u001b[49m:\n\u001b[0;32m      8\u001b[0m     img \u001b[38;5;241m=\u001b[39m cv2\u001b[38;5;241m.\u001b[39mimread(os\u001b[38;5;241m.\u001b[39mpath\u001b[38;5;241m.\u001b[39mjoin(Path, img_file)) \n\u001b[0;32m      9\u001b[0m     gray \u001b[38;5;241m=\u001b[39m cv2\u001b[38;5;241m.\u001b[39mcvtColor(img, cv2\u001b[38;5;241m.\u001b[39mCOLOR_BGR2GRAY) \u001b[38;5;66;03m# ADD THIS\u001b[39;00m\n",
      "\u001b[1;31mFileNotFoundError\u001b[0m: [WinError 3] The system cannot find the path specified: 'F:\\\\1-02-2025\\\\Brain Image Segmentation\\\\imagess'"
     ]
    }
   ],
   "source": [
    "import os\n",
    "Path=\"C:\\\\Users\\\\Sai Nivas\\\\Desktop\\\\major1\\\\Brain Image Segmentation\\\\imagess\"\n",
    "x_test = []\n",
    "\n",
    "image_shape = (128,128)\n",
    "# Read training data\n",
    "for img_file in os.listdir(Path):\n",
    "    img = cv2.imread(os.path.join(Path, img_file)) \n",
    "    gray = cv2.cvtColor(img, cv2.COLOR_BGR2GRAY) # ADD THIS\n",
    "    img = cv2.resize(gray, image_shape)\n",
    "    x_test.append(img) \n",
    "\n",
    "x_test = np.array(x_test) # ADD THIS\n",
    "x_test = x_test.reshape(x_test.shape[0], 128, 128,1) # ADD THIS\n",
    "\n",
    "print(type(x_test),x_test.shape)"
   ]
  },
  {
   "cell_type": "code",
   "execution_count": null,
   "id": "3918b730",
   "metadata": {},
   "outputs": [],
   "source": [
    "THRESHOLD = 0.2\n",
    "predicted_mask = (unet.predict(x_test)>THRESHOLD)*1"
   ]
  },
  {
   "cell_type": "code",
   "execution_count": null,
   "id": "88a3a428",
   "metadata": {},
   "outputs": [],
   "source": [
    "print(type(predicted_mask),predicted_mask.shape)"
   ]
  },
  {
   "cell_type": "code",
   "execution_count": null,
   "id": "792bad91",
   "metadata": {},
   "outputs": [],
   "source": [
    "print(type(predicted_mask[2]),predicted_mask[2].shape)\n",
    "\n",
    "plt.imshow(predicted_mask[8])\n",
    "plt.title(\"Predicted Mask\")\n",
    "plt.savefig(\"result.png\")"
   ]
  },
  {
   "cell_type": "code",
   "execution_count": null,
   "id": "f88fe73a-556b-492c-b734-73b0626bc1ec",
   "metadata": {},
   "outputs": [],
   "source": []
  },
  {
   "cell_type": "code",
   "execution_count": null,
   "id": "54b63d8b-bbe1-4513-aa33-b87c0340a04d",
   "metadata": {},
   "outputs": [],
   "source": []
  },
  {
   "cell_type": "code",
   "execution_count": null,
   "id": "d09da069-7429-43ee-b016-c6c9af6e4eb1",
   "metadata": {},
   "outputs": [],
   "source": []
  }
 ],
 "metadata": {
  "kernelspec": {
   "display_name": "Python 3 (ipykernel)",
   "language": "python",
   "name": "python3"
  },
  "language_info": {
   "codemirror_mode": {
    "name": "ipython",
    "version": 3
   },
   "file_extension": ".py",
   "mimetype": "text/x-python",
   "name": "python",
   "nbconvert_exporter": "python",
   "pygments_lexer": "ipython3",
   "version": "3.8.19"
  }
 },
 "nbformat": 4,
 "nbformat_minor": 5
}
